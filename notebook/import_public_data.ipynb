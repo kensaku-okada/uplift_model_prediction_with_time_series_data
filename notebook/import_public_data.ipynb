{
 "cells": [
  {
   "cell_type": "code",
   "execution_count": 1,
   "metadata": {},
   "outputs": [],
   "source": [
    "import pathlib \n",
    "import urllib.request\n",
    "import sys\n",
    "import rdata\n",
    "\n",
    "def download_a_file_from_url(url: str, destination_path):\n",
    "    urllib.request.urlretrieve(url, destination_path)\n",
    "    \n",
    "def import_rda_file(import_path, dataframe_name: str):\n",
    "\n",
    "    parsed = rdata.parser.parse_file(import_path)\n",
    "    converted = rdata.conversion.convert(parsed)\n",
    "    return converted[dataframe_name]    \n",
    "\n",
    "def import_external_file_as_dataframe(public_file_url, data_name, extension):\n",
    "\n",
    "    absolute_dir = pathlib.Path().resolve()\n",
    "    file_name = data_name + extension\n",
    "\n",
    "    destination_path = absolute_dir.parent.joinpath(\"data\", \"public_data\", file_name)\n",
    "\n",
    "    download_a_file_from_url(public_file_url, destination_path)\n",
    "\n",
    "    return import_rda_file(import_path=destination_path, dataframe_name=data_name)\n"
   ]
  },
  {
   "cell_type": "code",
   "execution_count": 2,
   "metadata": {},
   "outputs": [],
   "source": [
    "public_file_url: str = \"https://github.com/google/GeoexperimentsResearch/raw/master/data/geoassignment.rda\"\n",
    "geoassignment_df = import_external_file_as_dataframe(public_file_url, data_name=\"geoassignment\", extension=\".rda\")\n"
   ]
  },
  {
   "cell_type": "code",
   "execution_count": 3,
   "metadata": {},
   "outputs": [
    {
     "data": {
      "text/plain": [
       "<bound method NDFrame.head of     geo  geo.group\n",
       "0     1          2\n",
       "1     2          1\n",
       "2     3          1\n",
       "3     4          2\n",
       "4     5          1\n",
       "..  ...        ...\n",
       "95   96          2\n",
       "96   97          1\n",
       "97   98          2\n",
       "98   99          2\n",
       "99  100          1\n",
       "\n",
       "[100 rows x 2 columns]>"
      ]
     },
     "execution_count": 3,
     "metadata": {},
     "output_type": "execute_result"
    }
   ],
   "source": [
    "geoassignment_df.head"
   ]
  },
  {
   "cell_type": "code",
   "execution_count": 4,
   "metadata": {},
   "outputs": [
    {
     "name": "stderr",
     "output_type": "stream",
     "text": [
      "/Users/kensaku-okada-mac/.pyenv/versions/3.8.2/lib/python3.8/site-packages/rdata/conversion/_conversion.py:631: UserWarning: Missing constructor for R class \"Date\". The underlying R object is returned instead.\n",
      "  warnings.warn(missing_msg + solution_msg,\n"
     ]
    }
   ],
   "source": [
    "public_file_url: str = \"https://github.com/google/GeoexperimentsResearch/raw/master/data/salesandcost.rda\"\n",
    "salesandcost_df = import_external_file_as_dataframe(public_file_url, data_name=\"salesandcost\", extension=\".rda\")\n"
   ]
  },
  {
   "cell_type": "code",
   "execution_count": 5,
   "metadata": {},
   "outputs": [
    {
     "data": {
      "text/plain": [
       "<bound method NDFrame.head of          date  geo    sales  cost\n",
       "0     16440.0    1  7227.32   0.0\n",
       "1     16440.0   10  1827.21   0.0\n",
       "2     16440.0  100    23.98   0.0\n",
       "3     16440.0   11  1501.10   0.0\n",
       "4     16440.0   12  1371.61   0.0\n",
       "...       ...  ...      ...   ...\n",
       "9220  16532.0   95    49.01   0.0\n",
       "9221  16532.0   96    49.01   0.0\n",
       "9222  16532.0   97    35.01   0.0\n",
       "9223  16532.0   98    49.01   0.0\n",
       "9224  16532.0   99    35.01   0.0\n",
       "\n",
       "[9225 rows x 4 columns]>"
      ]
     },
     "execution_count": 5,
     "metadata": {},
     "output_type": "execute_result"
    }
   ],
   "source": [
    "salesandcost_df.head"
   ]
  },
  {
   "cell_type": "code",
   "execution_count": null,
   "metadata": {},
   "outputs": [],
   "source": []
  }
 ],
 "metadata": {
  "jupytext": {
   "text_representation": {
    "extension": ".py",
    "format_name": "light",
    "format_version": "1.5",
    "jupytext_version": "1.6.0"
   }
  },
  "kernelspec": {
   "display_name": "Python 3",
   "language": "python",
   "name": "python3"
  },
  "language_info": {
   "codemirror_mode": {
    "name": "ipython",
    "version": 3
   },
   "file_extension": ".py",
   "mimetype": "text/x-python",
   "name": "python",
   "nbconvert_exporter": "python",
   "pygments_lexer": "ipython3",
   "version": "3.8.2"
  }
 },
 "nbformat": 4,
 "nbformat_minor": 4
}
