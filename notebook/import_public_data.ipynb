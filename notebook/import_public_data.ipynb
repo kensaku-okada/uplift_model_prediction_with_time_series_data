{
 "cells": [
  {
   "cell_type": "code",
   "execution_count": 1,
   "metadata": {},
   "outputs": [],
   "source": [
    "import sys\n",
    "import pathlib \n",
    "import urllib.request\n",
    "import sys\n",
    "import rdata\n",
    "import feather\n",
    "import pyreadr\n"
   ]
  },
  {
   "cell_type": "code",
   "execution_count": 2,
   "metadata": {},
   "outputs": [],
   "source": [
    "def download_a_file_from_url(url: str, destination_path):\n",
    "    urllib.request.urlretrieve(url, destination_path)\n",
    "\n",
    "def import_rda_file_by_rdata(import_path, dataframe_name: str):\n",
    "    parsed = rdata.parser.parse_file(import_path)\n",
    "    converted = rdata.conversion.convert(parsed)\n",
    "    return converted[dataframe_name]    \n",
    "\n",
    "def import_external_file_as_dataframe(public_file_url, data_name, extension, import_method=\"feather\"):\n",
    "\n",
    "    absolute_dir = pathlib.Path().resolve()\n",
    "    file_name = data_name + extension\n",
    "    destination_path = absolute_dir.parent.joinpath(\"data\", \"public_data\", file_name)\n",
    "    download_a_file_from_url(public_file_url, destination_path)\n",
    "    \n",
    "    if (import_method == \"rdata\"):\n",
    "        return import_rda_file_by_rdata(import_path=destination_path, dataframe_name=data_name)\n",
    "\n",
    "#     this case returns error \"ArrowInvalid: Not a Feather V1 or Arrow IPC file\" when the file format is not feather\n",
    "    elif (import_method == \"feather\"):\n",
    "        return feather.read_dataframe(destination_path)[data_name]\n",
    "\n",
    "    elif (import_method == \"pyreadr\"):\n",
    "        return pyreadr.read_r(str(destination_path))[data_name]\n",
    "\n",
    "    else:\n",
    "        print(\"not registered import method. returns None\")\n",
    "        sys.exit(0)\n"
   ]
  },
  {
   "cell_type": "code",
   "execution_count": 3,
   "metadata": {
    "lines_to_next_cell": 2
   },
   "outputs": [
    {
     "name": "stdout",
     "output_type": "stream",
     "text": [
      "    geo  geo.group\n",
      "0     1          2\n",
      "1     2          1\n",
      "2     3          1\n",
      "3     4          2\n",
      "4     5          1\n",
      "..  ...        ...\n",
      "95   96          2\n",
      "96   97          1\n",
      "97   98          2\n",
      "98   99          2\n",
      "99  100          1\n",
      "\n",
      "[100 rows x 2 columns]\n"
     ]
    }
   ],
   "source": [
    "public_file_url: str = \"https://github.com/google/GeoexperimentsResearch/raw/master/data/geoassignment.rda\"\n",
    "# import_method = \"rdata\" # failed\n",
    "# import_method = \"feather\" # failed\n",
    "import_method = \"pyreadr\" # succeeded!\n",
    "\n",
    "geoassignment_df = import_external_file_as_dataframe(\n",
    "    public_file_url, \n",
    "    data_name=\"geoassignment\", \n",
    "    extension=\".rda\", \n",
    "    import_method=import_method)\n",
    "print(geoassignment_df)"
   ]
  },
  {
   "cell_type": "code",
   "execution_count": 4,
   "metadata": {},
   "outputs": [
    {
     "data": {
      "text/plain": [
       "<bound method NDFrame.head of     geo  geo.group\n",
       "0     1          2\n",
       "1     2          1\n",
       "2     3          1\n",
       "3     4          2\n",
       "4     5          1\n",
       "..  ...        ...\n",
       "95   96          2\n",
       "96   97          1\n",
       "97   98          2\n",
       "98   99          2\n",
       "99  100          1\n",
       "\n",
       "[100 rows x 2 columns]>"
      ]
     },
     "execution_count": 4,
     "metadata": {},
     "output_type": "execute_result"
    }
   ],
   "source": [
    "geoassignment_df.head"
   ]
  },
  {
   "cell_type": "code",
   "execution_count": 5,
   "metadata": {
    "lines_to_next_cell": 2
   },
   "outputs": [],
   "source": [
    "public_file_url: str = \"https://github.com/google/GeoexperimentsResearch/raw/master/data/salesandcost.rda\"\n",
    "salesandcost_df = import_external_file_as_dataframe(\n",
    "    public_file_url, \n",
    "    data_name=\"salesandcost\", \n",
    "    extension=\".rda\", \n",
    "    import_method=import_method)\n"
   ]
  },
  {
   "cell_type": "code",
   "execution_count": 6,
   "metadata": {},
   "outputs": [
    {
     "data": {
      "text/plain": [
       "<bound method NDFrame.head of             date  geo    sales  cost\n",
       "0     2015-01-05    1  7227.32   0.0\n",
       "1     2015-01-05   10  1827.21   0.0\n",
       "2     2015-01-05  100    23.98   0.0\n",
       "3     2015-01-05   11  1501.10   0.0\n",
       "4     2015-01-05   12  1371.61   0.0\n",
       "...          ...  ...      ...   ...\n",
       "9220  2015-04-07   95    49.01   0.0\n",
       "9221  2015-04-07   96    49.01   0.0\n",
       "9222  2015-04-07   97    35.01   0.0\n",
       "9223  2015-04-07   98    49.01   0.0\n",
       "9224  2015-04-07   99    35.01   0.0\n",
       "\n",
       "[9225 rows x 4 columns]>"
      ]
     },
     "execution_count": 6,
     "metadata": {},
     "output_type": "execute_result"
    }
   ],
   "source": [
    "salesandcost_df.head"
   ]
  },
  {
   "cell_type": "code",
   "execution_count": null,
   "metadata": {},
   "outputs": [],
   "source": []
  }
 ],
 "metadata": {
  "jupytext": {
   "text_representation": {
    "extension": ".py",
    "format_name": "light",
    "format_version": "1.5",
    "jupytext_version": "1.6.0"
   }
  },
  "kernelspec": {
   "display_name": "Python 3",
   "language": "python",
   "name": "python3"
  },
  "language_info": {
   "codemirror_mode": {
    "name": "ipython",
    "version": 3
   },
   "file_extension": ".py",
   "mimetype": "text/x-python",
   "name": "python",
   "nbconvert_exporter": "python",
   "pygments_lexer": "ipython3",
   "version": "3.8.2"
  }
 },
 "nbformat": 4,
 "nbformat_minor": 4
}
